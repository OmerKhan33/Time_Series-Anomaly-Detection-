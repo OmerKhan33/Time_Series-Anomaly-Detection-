{
 "cells": [
  {
   "cell_type": "code",
   "execution_count": null,
   "id": "9f58bb4d-c8a7-4ca3-818f-66c6bf74df8e",
   "metadata": {},
   "outputs": [],
   "source": [
    "import numpy as np\n",
    "import pandas as pd\n",
    "from darts import TimeSeries\n",
    "from sklearn.model_selection import train_test_split\n",
    "from darts.models import TCNModel\n",
    "import matplotlib.pyplot as plt"
   ]
  },
  {
   "cell_type": "code",
   "execution_count": null,
   "id": "9834574e-cdff-4ef6-a988-662ce180f036",
   "metadata": {},
   "outputs": [],
   "source": [
    "# Load the dataset\n",
    "dataframe = pd.read_csv('ecg.csv', header=None)\n",
    "raw_data = dataframe.values\n",
    "\n",
    "# Separate labels and data\n",
    "labels = raw_data[:, -1]\n",
    "data = raw_data[:, :-1]\n",
    "\n",
    "# Convert the data into Darts TimeSeries objects\n",
    "series_list = [TimeSeries.from_values(data[i]) for i in range(data.shape[0])]\n",
    "\n",
    "# Create a DataFrame to hold the labels and the corresponding series\n",
    "labeled_data = pd.DataFrame({'series': series_list, 'labels': labels})\n",
    "\n",
    "# Perform a train-test split using sklearn\n",
    "train_indices, test_indices = train_test_split(\n",
    "    labeled_data.index, test_size=0.2, random_state=21\n",
    ")\n",
    "\n",
    "# Extract the training and testing data\n",
    "train_series = labeled_data.loc[train_indices, 'series'].tolist()\n",
    "test_series = labeled_data.loc[test_indices, 'series'].tolist()\n",
    "train_labels = labeled_data.loc[train_indices, 'labels'].values\n",
    "test_labels = labeled_data.loc[test_indices, 'labels'].values\n",
    "\n",
    "# Convert TimeSeries to NumPy arrays for scaling\n",
    "train_data = np.array([series.values() for series in train_series])\n",
    "test_data = np.array([series.values() for series in test_series])\n",
    "\n",
    "# Min-Max Scaling\n",
    "min_val = np.min(train_data)\n",
    "max_val = np.max(train_data)\n",
    "\n",
    "train_data = (train_data - min_val) / (max_val - min_val)\n",
    "test_data = (test_data - min_val) / (max_val - min_val)\n",
    "\n",
    "# Convert back to TimeSeries\n",
    "train_series = [TimeSeries.from_values(data) for data in train_data]\n",
    "test_series = [TimeSeries.from_values(data) for data in test_data]\n",
    "\n",
    "# Convert data to float32\n",
    "train_data = train_data.astype(np.float32)\n",
    "test_data = test_data.astype(np.float32)\n",
    "\n",
    "# Convert labels to boolean\n",
    "train_labels = train_labels.astype(bool)\n",
    "test_labels = test_labels.astype(bool)\n",
    "\n",
    "# Extract normal and anomalous data\n",
    "normal_train_data = train_data[train_labels]\n",
    "anomalous_train_data = train_data[~train_labels]\n",
    "normal_test_data = test_data[test_labels]\n",
    "anomalous_test_data = test_data[~test_labels]\n"
   ]
  },
  {
   "cell_type": "code",
   "execution_count": null,
   "id": "ddc6b680-170a-49bb-a0c3-aab6016652cd",
   "metadata": {},
   "outputs": [],
   "source": [
    "import matplotlib.pyplot as plt\n",
    "plt.grid()\n",
    "plt.plot(np.arange(140), normal_train_data[0])\n",
    "plt.title(\"A Normal ECG\")\n",
    "plt.show()\n"
   ]
  },
  {
   "cell_type": "code",
   "execution_count": null,
   "id": "f8f2fdd1-d98a-4c3d-b035-3247ed8b9147",
   "metadata": {},
   "outputs": [],
   "source": [
    "plt.grid()\n",
    "plt.plot(np.arange(140), anomalous_train_data[0])\n",
    "plt.title(\"An Anomalous ECG\")\n",
    "plt.show()\n"
   ]
  },
  {
   "cell_type": "code",
   "execution_count": null,
   "id": "75a375a4-6cd4-4e93-a64b-f20bc44b7420",
   "metadata": {},
   "outputs": [],
   "source": [
    "normal_train_series = [TimeSeries.from_values(data) for data in normal_train_data]\n",
    "\n",
    "\n",
    "# Define the TCN model\n",
    "model = TCNModel(\n",
    "    input_chunk_length=30,  # Length of the input sequence\n",
    "    output_chunk_length=1,  # Number of time steps to predict ahead\n",
    "    kernel_size=3,          # Size of the convolutional kernel\n",
    "    num_filters=64,         # Number of filters in the convolutional layers\n",
    "    dropout=0.1,            # Dropout rate\n",
    "    dilation_base=2,         # Base for the dilation factor\n",
    "    n_epochs=2\n",
    ")\n",
    "\n",
    "# Fit the model\n",
    "model.fit(normal_train_series)\n",
    "\n",
    "# Optionally, you can save the model for later use\n",
    "# model.save('tcn_model.pth')"
   ]
  },
  {
   "cell_type": "code",
   "execution_count": null,
   "id": "4d3afbbc-5996-436e-ab2b-230dd9ccc500",
   "metadata": {},
   "outputs": [],
   "source": [
    "normal_test_series = [TimeSeries.from_values(data) for data in normal_test_data]\n",
    "\n",
    "\n",
    "# Assuming `len(series)` is the length of future time steps you want to predict\n",
    "num_future_steps = 140  # Adjust this according to your needs\n",
    "\n",
    "# Generate predictions for each test series\n",
    "predictions = [model.predict(n=num_future_steps, series=series) for series in normal_test_series]\n"
   ]
  },
  {
   "cell_type": "code",
   "execution_count": null,
   "id": "bf9ae6b7-563d-4e1a-b68a-1a24e18a0371",
   "metadata": {},
   "outputs": [],
   "source": [
    "def normalize(series):\n",
    "    return (series - min_val) / (max_val - min_val)\n",
    "\n",
    "normal_test_series = [TimeSeries.from_values(normalize(series.values()).astype(np.float32)) for series in test_series]\n",
    "\n",
    "# Define how many future time steps you want to predict\n",
    "num_future_steps = 140\n",
    "\n",
    "#len(normal_test_series)\n",
    "\n",
    "# Generate predictions\n",
    "predictions = [model.predict(n=num_future_steps, series=series) for series in normal_test_series[:50]]"
   ]
  },
  {
   "cell_type": "code",
   "execution_count": null,
   "id": "0fbc9792-1f6c-4e27-a513-b76f2927c635",
   "metadata": {},
   "outputs": [],
   "source": [
    "index = 0\n",
    "actual_series = test_series[index].values()\n",
    "predicted_series = predictions[index].values()\n",
    "\n",
    "# Ensure that actual_series and predicted_series are 1-dimensional\n",
    "actual_series = actual_series.flatten()\n",
    "predicted_series = predicted_series.flatten()\n",
    "\n",
    "\n",
    "plt.figure(figsize=(12, 6))\n",
    "plt.plot(actual_series, label='Actual Data', color='b')\n",
    "plt.plot(predicted_series, label='Predictions', color='r')\n",
    "plt.fill_between(np.arange(len(actual_series)), actual_series, predicted_series, color='lightcoral', alpha=0.5, label='Error')\n",
    "plt.legend()\n",
    "plt.xlabel('Time Steps')\n",
    "plt.ylabel('Normalized Value')\n",
    "plt.title('Actual vs Predicted Data')\n",
    "plt.show()"
   ]
  },
  {
   "cell_type": "code",
   "execution_count": null,
   "id": "acb17fa0-2aa3-4a42-bcfe-d0dc91c722c4",
   "metadata": {},
   "outputs": [],
   "source": []
  }
 ],
 "metadata": {
  "kernelspec": {
   "display_name": "Python 3 (ipykernel)",
   "language": "python",
   "name": "python3"
  },
  "language_info": {
   "codemirror_mode": {
    "name": "ipython",
    "version": 3
   },
   "file_extension": ".py",
   "mimetype": "text/x-python",
   "name": "python",
   "nbconvert_exporter": "python",
   "pygments_lexer": "ipython3",
   "version": "3.8.19"
  }
 },
 "nbformat": 4,
 "nbformat_minor": 5
}
